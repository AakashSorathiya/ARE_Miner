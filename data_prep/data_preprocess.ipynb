{
 "cells": [
  {
   "cell_type": "code",
   "execution_count": 25,
   "metadata": {},
   "outputs": [],
   "source": [
    "import pandas as pd\n",
    "import re\n",
    "from bs4 import BeautifulSoup"
   ]
  },
  {
   "cell_type": "code",
   "execution_count": 21,
   "metadata": {},
   "outputs": [
    {
     "name": "stdout",
     "output_type": "stream",
     "text": [
      "<class 'pandas.core.frame.DataFrame'>\n",
      "RangeIndex: 2062 entries, 0 to 2061\n",
      "Data columns (total 8 columns):\n",
      " #   Column                   Non-Null Count  Dtype \n",
      "---  ------                   --------------  ----- \n",
      " 0   App id                   2062 non-null   object\n",
      " 1   Review id                2062 non-null   object\n",
      " 2   Sentence id              2062 non-null   int64 \n",
      " 3   Sentence content         2062 non-null   object\n",
      " 4   Feature (Positive)       291 non-null    object\n",
      " 5   Feature (Neutral)        638 non-null    object\n",
      " 6   Feature (Negative)       110 non-null    object\n",
      " 7   Feature (All Annotated)  971 non-null    object\n",
      "dtypes: int64(1), object(7)\n",
      "memory usage: 129.0+ KB\n"
     ]
    }
   ],
   "source": [
    "data = pd.read_csv('../datafiles/ground_truth.csv')\n",
    "data.info()"
   ]
  },
  {
   "cell_type": "code",
   "execution_count": 29,
   "metadata": {},
   "outputs": [],
   "source": [
    "def pre_process(text):\n",
    "  text = BeautifulSoup(str(text)).get_text()\n",
    "  text = re.sub(\"[^a-zA-Z]\", \" \", text)\n",
    "  text = text.lower()\n",
    "  tokens = text.split()\n",
    "  return tokens"
   ]
  },
  {
   "cell_type": "code",
   "execution_count": 30,
   "metadata": {},
   "outputs": [],
   "source": [
    "def generate_bio_tags(sentence, keywords):\n",
    "    clean_content_tokens = pre_process(sentence)\n",
    "    \n",
    "    tags = ['O'] * len(clean_content_tokens)\n",
    "    \n",
    "    for keyword in keywords:\n",
    "        keyword_tokens = pre_process(keyword)\n",
    "        for i in range(len(clean_content_tokens)):\n",
    "            if clean_content_tokens[i:i+len(keyword_tokens)] == keyword_tokens:\n",
    "                tags[i] = 'B'\n",
    "                for j in range(1, len(keyword_tokens)):\n",
    "                    tags[i+j] = 'I'\n",
    "                break\n",
    "    \n",
    "    return clean_content_tokens, tags"
   ]
  },
  {
   "cell_type": "code",
   "execution_count": 32,
   "metadata": {},
   "outputs": [
    {
     "name": "stderr",
     "output_type": "stream",
     "text": [
      "C:\\Users\\aakash.sorathiya\\AppData\\Local\\Temp\\ipykernel_29632\\152839484.py:2: MarkupResemblesLocatorWarning: The input looks more like a filename than markup. You may want to open this file and pass the filehandle into Beautiful Soup.\n",
      "  text = BeautifulSoup(str(text)).get_text()\n"
     ]
    },
    {
     "name": "stdout",
     "output_type": "stream",
     "text": [
      "2062\n",
      "2062\n"
     ]
    }
   ],
   "source": [
    "tags_column=[]\n",
    "clean_content=[]\n",
    "for i, row in data.iterrows():\n",
    "    keywords=[]\n",
    "    # print(row['Feature (All Annotated)'])\n",
    "    if row['Feature (All Annotated)'] is not None:\n",
    "        keywords = str(row['Feature (All Annotated)']).split(';')\n",
    "    clean_content_tokens, tag_sequence = generate_bio_tags(row['Sentence content'], keywords)\n",
    "    tags_column.append(tag_sequence)\n",
    "    clean_content.append(clean_content_tokens)\n",
    "\n",
    "print(len(tags_column))\n",
    "print(len(clean_content))"
   ]
  },
  {
   "cell_type": "code",
   "execution_count": 33,
   "metadata": {},
   "outputs": [
    {
     "name": "stdout",
     "output_type": "stream",
     "text": [
      "<class 'pandas.core.frame.DataFrame'>\n",
      "RangeIndex: 2062 entries, 0 to 2061\n",
      "Data columns (total 2 columns):\n",
      " #   Column         Non-Null Count  Dtype \n",
      "---  ------         --------------  ----- \n",
      " 0   clean_content  2062 non-null   object\n",
      " 1   tags           2062 non-null   object\n",
      "dtypes: object(2)\n",
      "memory usage: 32.3+ KB\n"
     ]
    }
   ],
   "source": [
    "new_df = pd.DataFrame({'clean_content': clean_content, 'tags': tags_column})\n",
    "new_df.info()"
   ]
  },
  {
   "cell_type": "code",
   "execution_count": 34,
   "metadata": {},
   "outputs": [
    {
     "name": "stdout",
     "output_type": "stream",
     "text": [
      "<class 'pandas.core.frame.DataFrame'>\n",
      "RangeIndex: 2062 entries, 0 to 2061\n",
      "Data columns (total 10 columns):\n",
      " #   Column                   Non-Null Count  Dtype \n",
      "---  ------                   --------------  ----- \n",
      " 0   App id                   2062 non-null   object\n",
      " 1   Review id                2062 non-null   object\n",
      " 2   Sentence id              2062 non-null   int64 \n",
      " 3   Sentence content         2062 non-null   object\n",
      " 4   Feature (Positive)       291 non-null    object\n",
      " 5   Feature (Neutral)        638 non-null    object\n",
      " 6   Feature (Negative)       110 non-null    object\n",
      " 7   Feature (All Annotated)  971 non-null    object\n",
      " 8   clean_content            2062 non-null   object\n",
      " 9   tags                     2062 non-null   object\n",
      "dtypes: int64(1), object(9)\n",
      "memory usage: 161.2+ KB\n"
     ]
    }
   ],
   "source": [
    "final_df = pd.concat([data, new_df], axis=1)\n",
    "final_df.info()"
   ]
  },
  {
   "cell_type": "code",
   "execution_count": 35,
   "metadata": {},
   "outputs": [],
   "source": [
    "final_df.to_csv('../datafiles/true_tags.csv')"
   ]
  }
 ],
 "metadata": {
  "kernelspec": {
   "display_name": "pyenv",
   "language": "python",
   "name": "python3"
  },
  "language_info": {
   "codemirror_mode": {
    "name": "ipython",
    "version": 3
   },
   "file_extension": ".py",
   "mimetype": "text/x-python",
   "name": "python",
   "nbconvert_exporter": "python",
   "pygments_lexer": "ipython3",
   "version": "3.12.3"
  }
 },
 "nbformat": 4,
 "nbformat_minor": 2
}
